{
 "cells": [
  {
   "cell_type": "code",
   "execution_count": null,
   "id": "c3f1524a",
   "metadata": {},
   "outputs": [],
   "source": [
    "from IPython.core.interactiveshell import InteractiveShell\n",
    "InteractiveShell.ast_node_interactivity = 'all'"
   ]
  },
  {
   "cell_type": "code",
   "execution_count": null,
   "id": "84aaebea-e381-4b70-b73e-bd16f1309313",
   "metadata": {},
   "outputs": [],
   "source": [
    "import pandas as pd"
   ]
  },
  {
   "cell_type": "code",
   "execution_count": null,
   "id": "cc7ce6d5",
   "metadata": {},
   "outputs": [],
   "source": [
    "import matplotlib.pyplot as plt"
   ]
  },
  {
   "cell_type": "code",
   "execution_count": null,
   "id": "f98e532c",
   "metadata": {},
   "outputs": [],
   "source": [
    "import numpy as np\n",
    "import seaborn as sns"
   ]
  },
  {
   "cell_type": "code",
   "execution_count": null,
   "id": "6e7cda3a",
   "metadata": {},
   "outputs": [],
   "source": [
    "\n",
    "pd.set_option('display.max_columns', 30)\n",
    "pd.set_option('display.max_rows', 50)\n",
    "pd.set_option('display.max_colwidth', 400)"
   ]
  },
  {
   "cell_type": "markdown",
   "id": "358ee050",
   "metadata": {},
   "source": [
    "## importing dataset"
   ]
  },
  {
   "cell_type": "code",
   "execution_count": null,
   "id": "ad3c7c7f",
   "metadata": {},
   "outputs": [],
   "source": [
    "df_raw=pd.read_csv(\"P:\\Python_DS\\Data_Circle\\Dataset\\survey_results_public.csv\")"
   ]
  },
  {
   "cell_type": "code",
   "execution_count": null,
   "id": "f88300e3",
   "metadata": {
    "scrolled": true
   },
   "outputs": [],
   "source": [
    "df_raw.head()"
   ]
  },
  {
   "cell_type": "markdown",
   "id": "c2172a7f",
   "metadata": {},
   "source": [
    "## Checking the Dataset\n",
    "    *preliminary analysis of the data:\n",
    "    checking columns, the null count, turning categorical data to numerical ones"
   ]
  },
  {
   "cell_type": "code",
   "execution_count": null,
   "id": "54088a99",
   "metadata": {
    "scrolled": true
   },
   "outputs": [],
   "source": [
    "df.info()\n",
    "df.describe()"
   ]
  },
  {
   "cell_type": "markdown",
   "id": "b6cf0596",
   "metadata": {},
   "source": [
    "#### Removing Nulls from ConvertedCompYearly"
   ]
  },
  {
   "cell_type": "code",
   "execution_count": null,
   "id": "a7364328",
   "metadata": {},
   "outputs": [],
   "source": [
    "df = df_raw.dropna(subset= ['ConvertedCompYearly'])\n"
   ]
  },
  {
   "cell_type": "code",
   "execution_count": null,
   "id": "586af598",
   "metadata": {},
   "outputs": [],
   "source": [
    "#Turning the data column Salary to integers\n",
    "df.loc[:,\"ConvertedCompYearly\"].astype(int)                "
   ]
  },
  {
   "cell_type": "code",
   "execution_count": null,
   "id": "122cd559",
   "metadata": {},
   "outputs": [],
   "source": [
    "df = df[(df.ConvertedCompYearly < 250000) & (df.ConvertedCompYearly > 1000)]"
   ]
  },
  {
   "cell_type": "code",
   "execution_count": null,
   "id": "bf222535",
   "metadata": {},
   "outputs": [],
   "source": [
    "##dfa=pd.cut(df.ConvertedCompYearly,[0,5,95,100, right=True])"
   ]
  },
  {
   "cell_type": "code",
   "execution_count": null,
   "id": "7cca93e4",
   "metadata": {},
   "outputs": [],
   "source": [
    "df[df.Q120 == \"I agree\"].count()"
   ]
  },
  {
   "cell_type": "markdown",
   "id": "72bc9a77",
   "metadata": {},
   "source": [
    "--We can remove column Q120\n",
    "--We can turn RemoteWork [remote, in person, hybrid] input to numerical"
   ]
  },
  {
   "cell_type": "code",
   "execution_count": null,
   "id": "257102cb",
   "metadata": {},
   "outputs": [],
   "source": [
    "df['AISearchHaveWorkedWith'].str.split(';')"
   ]
  },
  {
   "cell_type": "code",
   "execution_count": null,
   "id": "db03337a",
   "metadata": {
    "scrolled": true
   },
   "outputs": [],
   "source": [
    "df['ConvertedCompYearly'].describe()"
   ]
  },
  {
   "cell_type": "code",
   "execution_count": null,
   "id": "f1b10240",
   "metadata": {},
   "outputs": [],
   "source": [
    "df.hist(\"ConvertedCompYearly\", bins=100)"
   ]
  },
  {
   "cell_type": "code",
   "execution_count": null,
   "id": "2251bfdc",
   "metadata": {},
   "outputs": [],
   "source": [
    "df[df.ConvertedCompYearly< 200000].ConvertedCompYearly.median()"
   ]
  },
  {
   "cell_type": "code",
   "execution_count": null,
   "id": "b9a0ba48",
   "metadata": {},
   "outputs": [],
   "source": [
    "filt = df.Employment.value_counts().reset_index().head(7)['index'].tolist()"
   ]
  },
  {
   "cell_type": "code",
   "execution_count": null,
   "id": "6c253e6e",
   "metadata": {},
   "outputs": [],
   "source": [
    "df.Employment.value_counts().reset_index()"
   ]
  },
  {
   "cell_type": "code",
   "execution_count": null,
   "id": "80f15bb5",
   "metadata": {},
   "outputs": [],
   "source": [
    "df[df['Employment'].isin(filt)].groupby('Employment').agg({'ConvertedCompYearly' : ['mean', 'median']}).reset_index()"
   ]
  },
  {
   "cell_type": "markdown",
   "id": "7289df8e",
   "metadata": {},
   "source": [
    "--The difference between med and mean"
   ]
  },
  {
   "cell_type": "code",
   "execution_count": null,
   "id": "510d1016",
   "metadata": {},
   "outputs": [],
   "source": [
    "df['Country'].value_counts().reset_index().head(20)"
   ]
  },
  {
   "cell_type": "code",
   "execution_count": null,
   "id": "392018d1",
   "metadata": {},
   "outputs": [],
   "source": []
  },
  {
   "cell_type": "code",
   "execution_count": null,
   "id": "8c76b984",
   "metadata": {},
   "outputs": [],
   "source": [
    "df.EdLevel.unique()"
   ]
  },
  {
   "cell_type": "code",
   "execution_count": null,
   "id": "f20aac67",
   "metadata": {},
   "outputs": [],
   "source": [
    "plt.figure(figsize=(20,10))\n",
    "plt.hist(df.EdLevel)"
   ]
  },
  {
   "cell_type": "code",
   "execution_count": null,
   "id": "5f3ec71e",
   "metadata": {},
   "outputs": [],
   "source": [
    "df['YearsCodePro'].fillna('nan', inplace=True)\n",
    "df[\"YearsCodePro\"].unique()\n",
    "#plt.scatter(df.YearsCodePro, df.ConvertedCompYearly)\n",
    "df_bar = df.loc[df[\"ConvertedCompYearly\"] < 200000,['YearsCodePro','ConvertedCompYearly']].groupby('YearsCodePro').\\\n",
    "median().sort_values(\"YearsCodePro\").reset_index()\n",
    "\n",
    "plt.figure(figsize=(20,10))\n",
    "plt.bar(df_bar.YearsCodePro, df_bar.ConvertedCompYearly)\n",
    "df_bar.head()"
   ]
  },
  {
   "cell_type": "markdown",
   "id": "6e9e55bc",
   "metadata": {},
   "source": [
    "Change the str to numbers"
   ]
  },
  {
   "cell_type": "code",
   "execution_count": null,
   "id": "e91e1cd2",
   "metadata": {},
   "outputs": [],
   "source": [
    "plt.scatter(df.YearsCodePro, df.ConvertedCompYearly)"
   ]
  },
  {
   "cell_type": "markdown",
   "id": "79223b8c",
   "metadata": {},
   "source": [
    "### Ideas to go on\n",
    "-plots and visualisation\n",
    "-salaries with: countries(continent)/only Europe/ job title/experience\n",
    "-survey from previous years"
   ]
  },
  {
   "cell_type": "code",
   "execution_count": null,
   "id": "123e6d54",
   "metadata": {},
   "outputs": [],
   "source": [
    "countries=pd.read_csv(\"P:\\Python_DS\\Data_Circle\\Countries.csv\", on_bad_lines='skip')\n",
    "countries.head()"
   ]
  },
  {
   "cell_type": "code",
   "execution_count": null,
   "id": "4e7a1f82",
   "metadata": {},
   "outputs": [],
   "source": [
    "euCountries = countries[countries.Continent == \"Europe\"][\"Country\"]\n",
    "euCountries.tolist()\n",
    "\n",
    "dfEU = df[df.Country.isin(euCountries)]  \n",
    "dfEU.head()\n"
   ]
  },
  {
   "cell_type": "code",
   "execution_count": null,
   "id": "5f760fd9",
   "metadata": {},
   "outputs": [],
   "source": [
    "df.merge(countries, on=\"Country\", how=\"right\")"
   ]
  },
  {
   "cell_type": "code",
   "execution_count": null,
   "id": "b744c392",
   "metadata": {},
   "outputs": [],
   "source": [
    "df_2 = df.loc[df[\"Country\"].isin([\"United States of America\",\"Germany\",\"United Kingdom of Great Britain and Northern Ireland\"]),['EdLevel','DevType','Country','ConvertedCompYearly']]\n",
    "df_2.head()"
   ]
  },
  {
   "cell_type": "code",
   "execution_count": null,
   "id": "e0fe6213",
   "metadata": {},
   "outputs": [],
   "source": [
    "df_2.DevType.value_counts().reset_index().head(15)"
   ]
  },
  {
   "cell_type": "code",
   "execution_count": null,
   "id": "887cb9df",
   "metadata": {},
   "outputs": [],
   "source": [
    "df_3 = df_2.groupby(['Country','DevType','EdLevel']).agg({'ConvertedCompYearly' : ['mean', 'min', 'max', 'count']})\\\n",
    ".reset_index()\n",
    "df_3.columns = ['Country','DevType','EdLevel','mean', 'min', 'max', 'count']\n",
    "df_3 = df_3[df_3['count']>10]\n",
    "df_3"
   ]
  },
  {
   "cell_type": "code",
   "execution_count": null,
   "id": "fd047458",
   "metadata": {},
   "outputs": [],
   "source": [
    "df_3G = df_3.loc[df_3[\"Country\"]==\"Germany\",['DevType', 'EdLevel', 'mean']]\n",
    "df_3U = df_3.loc[df_3[\"Country\"]==\"United States of America\",['DevType', 'EdLevel', 'mean']]\n",
    "df_3UK = df_3.loc[df_3['Country']==\"United Kingdom of Great Britain and Northern Ireland\", ['DevType', 'EdLevel', 'mean']]"
   ]
  },
  {
   "cell_type": "code",
   "execution_count": null,
   "id": "7ed58226",
   "metadata": {},
   "outputs": [],
   "source": [
    "def pivot_df(d):\n",
    "    d= d.pivot('DevType','EdLevel','mean')\n",
    "    return d\n",
    "\n",
    "df_3G = pivot_df(df_3G)\n",
    "df_3U = pivot_df(df_3U)\n",
    "df_3UK = pivot_df(df_3UK)"
   ]
  },
  {
   "cell_type": "code",
   "execution_count": null,
   "id": "e981dcab",
   "metadata": {},
   "outputs": [],
   "source": [
    "sns.heatmap(df_3G)"
   ]
  },
  {
   "cell_type": "code",
   "execution_count": null,
   "id": "d0686ed8",
   "metadata": {},
   "outputs": [],
   "source": [
    "sns.heatmap(df_3U)"
   ]
  },
  {
   "cell_type": "code",
   "execution_count": null,
   "id": "c4990bf1",
   "metadata": {},
   "outputs": [],
   "source": [
    "sns.heatmap(df_3UK)"
   ]
  },
  {
   "cell_type": "code",
   "execution_count": null,
   "id": "68c5c9ef",
   "metadata": {},
   "outputs": [],
   "source": [
    "#def c2c(country):\n",
    "    #for i in country:\n",
    "        "
   ]
  },
  {
   "cell_type": "code",
   "execution_count": null,
   "id": "7f3be71c",
   "metadata": {},
   "outputs": [],
   "source": [
    "#df['Continent']= countries[countries.Country == df['Country']"
   ]
  },
  {
   "cell_type": "code",
   "execution_count": null,
   "id": "e7cfa1e7",
   "metadata": {},
   "outputs": [],
   "source": [
    "#df.groupby('Country').agg({'ConvertedCompYearly' : ['mean', 'median']}).reset_index()"
   ]
  },
  {
   "cell_type": "markdown",
   "id": "63fb3a36",
   "metadata": {},
   "source": [
    "## Things to do\n",
    "-- Clean the dataset:\n",
    "    *turn the Years of code to numerical dtype\n",
    "    *take out the outliers (salary-wise)\n",
    "    \n",
    "-- Check for ML model if categorical data works\n",
    "\n",
    "-- get some visualization (scatter plot/histograms/boxplot/heatmap)\n",
    "\n",
    "-- Check lowest range (5000 - 10000) income and highest income (200000 - 250000) features\n"
   ]
  },
  {
   "cell_type": "code",
   "execution_count": null,
   "id": "801c594f",
   "metadata": {},
   "outputs": [],
   "source": []
  }
 ],
 "metadata": {
  "kernelspec": {
   "display_name": "Python 3 (ipykernel)",
   "language": "python",
   "name": "python3"
  },
  "language_info": {
   "codemirror_mode": {
    "name": "ipython",
    "version": 3
   },
   "file_extension": ".py",
   "mimetype": "text/x-python",
   "name": "python",
   "nbconvert_exporter": "python",
   "pygments_lexer": "ipython3",
   "version": "3.9.7"
  }
 },
 "nbformat": 4,
 "nbformat_minor": 5
}
